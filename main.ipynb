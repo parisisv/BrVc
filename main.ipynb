{
 "cells": [
  {
   "cell_type": "code",
   "execution_count": null,
   "metadata": {},
   "outputs": [],
   "source": [
    "from pathlib import Path\n",
    "import numpy as np\n",
    "import matplotlib.pyplot as plt\n",
    "from src.data_loader import DataLoader\n",
    "from src.stepdetect import LRTStepChangeDetector\n",
    "from src.reactor_volume import BioreactorVolumeCalculator\n",
    "from src.utils import combine_online_and_offline_data, sort_time_data, calculate_time_intervals\n",
    "%load_ext autoreload\n",
    "%autoreload 2"
   ]
  },
  {
   "cell_type": "code",
   "execution_count": null,
   "metadata": {},
   "outputs": [],
   "source": [
    "data_dir = Path('data')\n",
    "data_path = data_dir / r\"measurements_2.xlsx\"\n",
    "loader = DataLoader(path=data_path)\n",
    "online_df = loader.load_online_data(sheet_name=\"online\")\n",
    "offline_df = loader.load_offline_data(sheet_name=\"offline\")"
   ]
  },
  {
   "cell_type": "code",
   "execution_count": null,
   "metadata": {},
   "outputs": [],
   "source": [
    "results_path = Path('results')\n",
    "if not results_path.exists():\n",
    "    results_path.mkdir()\n",
    "    \n",
    "experiment = 1\n",
    "log_dir = results_path / f'experiment_{experiment:02}'\n",
    "if not log_dir.exists():\n",
    "    log_dir.mkdir(parents=True)"
   ]
  },
  {
   "cell_type": "code",
   "execution_count": null,
   "metadata": {},
   "outputs": [],
   "source": [
    "time = np.array(online_df['time_h'])\n",
    "offline_samples = np.array(offline_df)\n",
    "feeding_data = np.array(online_df.drop(columns=['time_h']))\n",
    "feeding_data.shape"
   ]
  },
  {
   "cell_type": "code",
   "execution_count": null,
   "metadata": {},
   "outputs": [],
   "source": [
    "# Maximum liklehood test parameters\n",
    "delta=1\n",
    "min_size=0.01"
   ]
  },
  {
   "cell_type": "code",
   "execution_count": null,
   "metadata": {},
   "outputs": [],
   "source": [
    "detector = LRTStepChangeDetector(delta=delta, min_size=min_size)\n",
    "addition_indices = detector.apply_to_streams(feeding_data)"
   ]
  },
  {
   "cell_type": "code",
   "execution_count": null,
   "metadata": {},
   "outputs": [],
   "source": [
    "calculator = BioreactorVolumeCalculator(initial_volume=1000.0, F_in=0, F_out=0)\n",
    "online_feedings = calculator.calculate_stream_volume(time, feeding_data, addition_indices)"
   ]
  },
  {
   "cell_type": "code",
   "execution_count": null,
   "metadata": {},
   "outputs": [],
   "source": [
    "combined_data = combine_online_and_offline_data(online_feedings, offline_samples)\n",
    "sorted_material_addition_matrix = sort_time_data(combined_data)"
   ]
  },
  {
   "cell_type": "code",
   "execution_count": null,
   "metadata": {},
   "outputs": [],
   "source": [
    "sampling_intervals = calculate_time_intervals(time)\n",
    "working_volume = calculator.calculate_volume(time=time, sampling_intervals=sampling_intervals, material_addition_matrix=sorted_material_addition_matrix)"
   ]
  },
  {
   "cell_type": "code",
   "execution_count": null,
   "metadata": {},
   "outputs": [],
   "source": [
    "plt.figure(figsize=(10, 6))\n",
    "plt.plot(time, working_volume, linestyle='-', lw=3, color='k', label='Working Volume')\n",
    "plt.title('Working Volume over time in the Bioreactor', fontsize=15)\n",
    "plt.xlabel('Time (hours)', fontsize=15)\n",
    "plt.ylabel('Working volume (mL)', fontsize=15)\n",
    "plt.grid(True, linestyle='--', alpha=0.7)\n",
    "plt.xticks(fontsize=15)\n",
    "plt.yticks(fontsize=15)\n",
    "plt.legend(prop={\"size\": 15},\n",
    "        fontsize=12,\n",
    "        frameon=True,\n",
    "        framealpha=1.0,\n",
    "        edgecolor=\"k\",\n",
    "        borderpad=0.2,\n",
    "        handlelength=1,\n",
    "        shadow=True)\n",
    "plt.tight_layout()\n",
    "plt.show()"
   ]
  },
  {
   "cell_type": "code",
   "execution_count": null,
   "metadata": {},
   "outputs": [],
   "source": [
    "results = np.vstack((time, working_volume)).T\n",
    "results.shape"
   ]
  },
  {
   "cell_type": "code",
   "execution_count": null,
   "metadata": {},
   "outputs": [],
   "source": [
    "np.savetxt(log_dir/'working_volume.csv', results,\n",
    "           header= 'Time(h), Volume(mL)', delimiter=',', fmt='%f')"
   ]
  }
 ],
 "metadata": {
  "kernelspec": {
   "display_name": "Python 3",
   "language": "python",
   "name": "python3"
  },
  "language_info": {
   "codemirror_mode": {
    "name": "ipython",
    "version": 3
   },
   "file_extension": ".py",
   "mimetype": "text/x-python",
   "name": "python",
   "nbconvert_exporter": "python",
   "pygments_lexer": "ipython3",
   "version": "3.11.9"
  }
 },
 "nbformat": 4,
 "nbformat_minor": 2
}
